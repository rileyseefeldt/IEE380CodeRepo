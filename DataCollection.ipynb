{
  "nbformat": 4,
  "nbformat_minor": 0,
  "metadata": {
    "colab": {
      "provenance": [],
      "authorship_tag": "ABX9TyMVR4jlLqtqYDs9ZsBxrsVR",
      "include_colab_link": true
    },
    "kernelspec": {
      "name": "python3",
      "display_name": "Python 3"
    },
    "language_info": {
      "name": "python"
    }
  },
  "cells": [
    {
      "cell_type": "markdown",
      "metadata": {
        "id": "view-in-github",
        "colab_type": "text"
      },
      "source": [
        "<a href=\"https://colab.research.google.com/github/rileyseefeldt/IEE380CodeRepo/blob/main/DataCollection.ipynb\" target=\"_parent\"><img src=\"https://colab.research.google.com/assets/colab-badge.svg\" alt=\"Open In Colab\"/></a>"
      ]
    },
    {
      "cell_type": "code",
      "execution_count": 96,
      "metadata": {
        "colab": {
          "base_uri": "https://localhost:8080/",
          "height": 1000
        },
        "id": "Ejo9R7j0t5wa",
        "outputId": "7865c3c9-ec95-4209-b91b-e854958fe21a"
      },
      "outputs": [
        {
          "output_type": "stream",
          "name": "stdout",
          "text": [
            "Column: AGE Index: 4\n",
            "Column: EDUC Index: 6\n",
            "Column: MARRIED Index: 8\n",
            "Column: CHECKING Index: 105\n",
            "<class 'pandas.core.frame.DataFrame'>\n",
            "Index: 53 entries, 130 to 22630\n",
            "Data columns (total 4 columns):\n",
            " #   Column    Non-Null Count  Dtype\n",
            "---  ------    --------------  -----\n",
            " 0   AGE       53 non-null     int64\n",
            " 1   EDUC      53 non-null     int64\n",
            " 2   MARRIED   53 non-null     int64\n",
            " 3   CHECKING  53 non-null     int64\n",
            "dtypes: int64(4)\n",
            "memory usage: 2.1 KB\n",
            "None\n",
            "       AGE  EDUC  MARRIED  CHECKING\n",
            "130     19     9        2       520\n",
            "131     19     9        2       140\n",
            "132     19     9        2        60\n",
            "133     19     9        2        50\n",
            "134     19     9        2       230\n",
            "150     23     9        2       300\n",
            "895     21     9        2      2500\n",
            "896     21     9        2      2900\n",
            "897     21     9        2      2300\n",
            "899     21     9        2      2400\n",
            "1805    25    10        2       310\n",
            "1806    25    10        2       320\n",
            "1807    25    10        2       290\n",
            "2005    23     9        2       700\n",
            "2880    21     9        2      1200\n",
            "2975    21     9        2      1500\n",
            "3205    22    10        2      2400\n",
            "3206    22    10        2      1000\n",
            "3207    22    10        2      2200\n",
            "3208    22    10        2      1300\n",
            "3209    22    10        2      1400\n",
            "3585    23     9        2       150\n",
            "3588    23     9        2       160\n",
            "4250    25    10        2        20\n",
            "4251    25    10        2        40\n",
            "4252    25    10        2        10\n",
            "4253    25    10        2        30\n",
            "4445    22     9        2       710\n",
            "4446    22     9        2       790\n",
            "4447    22     9        2       500\n",
            "4448    22     9        2       610\n",
            "4449    22     9        2       400\n",
            "5525    20    10        2       900\n",
            "6290    24     9        2       500\n",
            "7505    25     9        2       160\n",
            "9455    24    10        2      1800\n",
            "12340   23     9        2         0\n",
            "12705   19     9        2      1000\n",
            "13670   21     9        2       700\n",
            "13980   19     9        2         0\n",
            "14165   23    10        2     16000\n",
            "16185   21     9        2         0\n",
            "16755   22     9        2      2000\n",
            "17360   22    11        2         0\n",
            "18215   24     9        2      1400\n",
            "18430   19     9        2       200\n",
            "19270   21     9        2      1000\n",
            "19850   21     9        2       900\n",
            "20060   23     9        2      5000\n",
            "20280   23     9        2        10\n",
            "20980   22     9        2      4000\n",
            "21090   22    11        2      1000\n",
            "22630   23    11        2      2000\n"
          ]
        },
        {
          "output_type": "display_data",
          "data": {
            "text/plain": [
              "<Figure size 640x480 with 1 Axes>"
            ],
            "image/png": "[encoded data removed]"
          },
          "metadata": {}
        }
      ],
      "source": [
        "import pandas as pd\n",
        "import numpy as np\n",
        "import matplotlib.pyplot as plt\n",
        "\n",
        "#loading file from Federal Reserve 2022 CSV Database\n",
        "file = pd.read_csv(\"SCFP2022.csv\")\n",
        "\n",
        "#Searching for variales relevant to analysis\n",
        "target_columns = ['checking', 'age', 'educ', 'married']\n",
        "index_columns = []\n",
        "i=0\n",
        "for col in file.columns:\n",
        "  if col.lower() in target_columns:\n",
        "    print(\"Column:\",col, \"Index:\", i)\n",
        "    index_columns.append(i)\n",
        "  i = i + 1\n",
        "\n",
        "#INDEX COLLUMS ORDER FORMATTED AS\n",
        "# [AGE, EDUC, MARRIED, CHECKING]\n",
        "age_index = index_columns[0]\n",
        "educ_index = index_columns[1]\n",
        "married_index = index_columns[2]\n",
        "checking_index = index_columns[3]\n",
        "\n",
        "college_students = file[\n",
        "    (file.iloc[:, age_index] >= 18) &  # Age >= 18\n",
        "    (file.iloc[:, age_index] <= 25) &  # Age <= 24\n",
        "    (file.iloc[:, married_index] == 2) &  #Not Married\n",
        "    (file.iloc[:, educ_index].isin([9, 10, 11]))  # Education: Some college or associate's degree\n",
        "]\n",
        "#filtering data to only include relevant columns\n",
        "college_students = college_students.iloc[:, [age_index, educ_index, married_index, checking_index]]\n",
        "#removing duplicate entries\n",
        "college_students = college_students.drop_duplicates()\n",
        "#printing up to first 100 instances of the data\n",
        "#NOTE: There are 53 total entries which match criteria\n",
        "print(college_students.info())\n",
        "print(college_students.head(100))\n",
        "college_students.to_csv('college_students.csv', index=False)\n",
        "\n",
        "#plotting histogram of data\n",
        "plt.hist(college_students['CHECKING'], bins='auto', edgecolor='black', alpha=0.7)\n",
        "plt.xlabel('Checking Account Balance ($)')\n",
        "plt.ylabel('Frequency')\n",
        "plt.grid(axis='y', linestyle='--', alpha=0.7)\n",
        "plt.show()\n"
      ]
    }
  ]
}